{
  "cells": [
    {
      "cell_type": "markdown",
      "metadata": {
        "colab_type": "text",
        "id": "view-in-github"
      },
      "source": [
        "<a href=\"https://colab.research.google.com/github/gokul-pv/EVA6_Assignmets_Session7/blob/main/EVA6_Session_7_CIFAR10_Final.ipynb\" target=\"_parent\"><img src=\"https://colab.research.google.com/assets/colab-badge.svg\" alt=\"Open In Colab\"/></a>"
      ]
    },
    {
      "cell_type": "code",
      "execution_count": 1,
      "metadata": {
        "id": "QVbdg0z4poCc"
      },
      "outputs": [],
      "source": [
        "%matplotlib inline\n",
        "import numpy as np\n",
        "import matplotlib.pyplot as plt"
      ]
    },
    {
      "cell_type": "code",
      "execution_count": 2,
      "metadata": {
        "id": "-yVpodAMpoCi"
      },
      "outputs": [],
      "source": [
        "import torch\n",
        "import torchvision\n",
        "import torchvision.transforms as transforms\n",
        "import torch.nn as nn\n",
        "import torch.nn.functional as F"
      ]
    },
    {
      "cell_type": "code",
      "execution_count": 3,
      "metadata": {
        "colab": {
          "base_uri": "https://localhost:8080/"
        },
        "id": "PSNosucw7yL6",
        "outputId": "8a2ee9ca-3eef-45d5-8379-589318bcb30e"
      },
      "outputs": [
        {
          "name": "stdout",
          "output_type": "stream",
          "text": [
            "Collecting git+https://github.com/albu/albumentations\n",
            "  Cloning https://github.com/albu/albumentations to /tmp/pip-req-build-rtuyew7h\n",
            "  Running command git clone -q https://github.com/albu/albumentations /tmp/pip-req-build-rtuyew7h\n",
            "Requirement already satisfied, skipping upgrade: numpy>=1.11.1 in /usr/local/lib/python3.7/dist-packages (from albumentations==1.0.0) (1.19.5)\n",
            "Requirement already satisfied, skipping upgrade: scipy in /usr/local/lib/python3.7/dist-packages (from albumentations==1.0.0) (1.4.1)\n",
            "Requirement already satisfied, skipping upgrade: scikit-image>=0.16.1 in /usr/local/lib/python3.7/dist-packages (from albumentations==1.0.0) (0.16.2)\n",
            "Requirement already satisfied, skipping upgrade: PyYAML in /usr/local/lib/python3.7/dist-packages (from albumentations==1.0.0) (3.13)\n",
            "Requirement already satisfied, skipping upgrade: opencv-python>=4.1.1 in /usr/local/lib/python3.7/dist-packages (from albumentations==1.0.0) (4.1.2.30)\n",
            "Requirement already satisfied, skipping upgrade: matplotlib!=3.0.0,>=2.0.0 in /usr/local/lib/python3.7/dist-packages (from scikit-image>=0.16.1->albumentations==1.0.0) (3.2.2)\n",
            "Requirement already satisfied, skipping upgrade: PyWavelets>=0.4.0 in /usr/local/lib/python3.7/dist-packages (from scikit-image>=0.16.1->albumentations==1.0.0) (1.1.1)\n",
            "Requirement already satisfied, skipping upgrade: imageio>=2.3.0 in /usr/local/lib/python3.7/dist-packages (from scikit-image>=0.16.1->albumentations==1.0.0) (2.4.1)\n",
            "Requirement already satisfied, skipping upgrade: networkx>=2.0 in /usr/local/lib/python3.7/dist-packages (from scikit-image>=0.16.1->albumentations==1.0.0) (2.5.1)\n",
            "Requirement already satisfied, skipping upgrade: pillow>=4.3.0 in /usr/local/lib/python3.7/dist-packages (from scikit-image>=0.16.1->albumentations==1.0.0) (7.1.2)\n",
            "Requirement already satisfied, skipping upgrade: python-dateutil>=2.1 in /usr/local/lib/python3.7/dist-packages (from matplotlib!=3.0.0,>=2.0.0->scikit-image>=0.16.1->albumentations==1.0.0) (2.8.1)\n",
            "Requirement already satisfied, skipping upgrade: cycler>=0.10 in /usr/local/lib/python3.7/dist-packages (from matplotlib!=3.0.0,>=2.0.0->scikit-image>=0.16.1->albumentations==1.0.0) (0.10.0)\n",
            "Requirement already satisfied, skipping upgrade: pyparsing!=2.0.4,!=2.1.2,!=2.1.6,>=2.0.1 in /usr/local/lib/python3.7/dist-packages (from matplotlib!=3.0.0,>=2.0.0->scikit-image>=0.16.1->albumentations==1.0.0) (2.4.7)\n",
            "Requirement already satisfied, skipping upgrade: kiwisolver>=1.0.1 in /usr/local/lib/python3.7/dist-packages (from matplotlib!=3.0.0,>=2.0.0->scikit-image>=0.16.1->albumentations==1.0.0) (1.3.1)\n",
            "Requirement already satisfied, skipping upgrade: decorator<5,>=4.3 in /usr/local/lib/python3.7/dist-packages (from networkx>=2.0->scikit-image>=0.16.1->albumentations==1.0.0) (4.4.2)\n",
            "Requirement already satisfied, skipping upgrade: six>=1.5 in /usr/local/lib/python3.7/dist-packages (from python-dateutil>=2.1->matplotlib!=3.0.0,>=2.0.0->scikit-image>=0.16.1->albumentations==1.0.0) (1.15.0)\n",
            "Building wheels for collected packages: albumentations\n",
            "  Building wheel for albumentations (setup.py) ... \u001b[?25l\u001b[?25hdone\n",
            "  Created wheel for albumentations: filename=albumentations-1.0.0-cp37-none-any.whl size=98151 sha256=d7146f9ff00ed41be42e311907471cb18d34d5572e3ab64ffb80078499257bba\n",
            "  Stored in directory: /tmp/pip-ephem-wheel-cache-x6mh887i/wheels/45/8b/e4/2837bbcf517d00732b8e394f8646f22b8723ac00993230188b\n",
            "Successfully built albumentations\n",
            "Installing collected packages: albumentations\n",
            "  Found existing installation: albumentations 1.0.0\n",
            "    Uninstalling albumentations-1.0.0:\n",
            "      Successfully uninstalled albumentations-1.0.0\n",
            "Successfully installed albumentations-1.0.0\n"
          ]
        }
      ],
      "source": [
        "!pip install -U git+https://github.com/albu/albumentations"
      ]
    },
    {
      "cell_type": "code",
      "execution_count": 4,
      "metadata": {
        "colab": {
          "base_uri": "https://localhost:8080/"
        },
        "id": "KcEeq5G9_U4R",
        "outputId": "0fe4f330-2bf4-4bb3-9968-5f1d8f29ba97"
      },
      "outputs": [
        {
          "name": "stdout",
          "output_type": "stream",
          "text": [
            "Mounted at /content/gdrive\n"
          ]
        }
      ],
      "source": [
        "# mount gdrive and unzip data\n",
        "from google.colab import drive\n",
        "drive.mount('/content/gdrive',force_remount=True)"
      ]
    },
    {
      "cell_type": "code",
      "execution_count": 5,
      "metadata": {
        "id": "BEr6kRXs_xPH"
      },
      "outputs": [],
      "source": [
        "import sys\n",
        "folder = '/content/gdrive/MyDrive/Colab'\n",
        "sys.path.append(folder)"
      ]
    },
    {
      "cell_type": "code",
      "execution_count": 6,
      "metadata": {
        "id": "12jpqiYP83Bc"
      },
      "outputs": [],
      "source": [
        "import albumentations as A\n",
        "import albumentations.pytorch as AP\n",
        "import random"
      ]
    },
    {
      "cell_type": "code",
      "execution_count": 7,
      "metadata": {
        "id": "PL0ZL89yB008"
      },
      "outputs": [],
      "source": [
        "class AlbumentationTransforms:\n",
        "\n",
        "  \"\"\"\n",
        "  Helper class to create test and train transforms using Albumentations\n",
        "  \"\"\"\n",
        "\n",
        "  def __init__(self, transforms_list=[]):\n",
        "    transforms_list.append(AP.ToTensorV2())\n",
        "    self.transforms = A.Compose(transforms_list)\n",
        "\n",
        "\n",
        "  def __call__(self, img):\n",
        "    img = np.array(img)\n",
        "    #print(img)\n",
        "    return self.transforms(image=img)['image']"
      ]
    },
    {
      "cell_type": "markdown",
      "metadata": {
        "id": "hceua1_eNE4m"
      },
      "source": [
        "**Viewing the applies transformations**"
      ]
    },
    {
      "cell_type": "code",
      "execution_count": 8,
      "metadata": {
        "id": "VMzVMtpL9hTG"
      },
      "outputs": [],
      "source": [
        "channel_means = (0.4919, 0.4827, 0.4472)\n",
        "channel_stdevs = (0.2470, 0.2434, 0.2616)\n",
        "\n",
        "\n",
        "expample_transform = AlbumentationTransforms([\n",
        "                                       A.HorizontalFlip(),\n",
        "                                       A.ShiftScaleRotate(shift_limit=0.05, scale_limit=0.05, rotate_limit=15, p=0.5),\n",
        "                                       A.CoarseDropout(max_holes = 1, max_height=16, max_width=16,  min_holes = 1, min_height=16, min_width=16, \n",
        "                                                       fill_value=channel_means, mask_fill_value = None),\n",
        "                                       A.Normalize(mean=channel_means, std=channel_stdevs),\n",
        "                                       \n",
        "                                       ])"
      ]
    },
    {
      "cell_type": "code",
      "execution_count": 9,
      "metadata": {
        "id": "TkCUKKzeIv4C"
      },
      "outputs": [],
      "source": [
        "import copy\n",
        "import random\n",
        "\n",
        "MEAN = torch.tensor([0.485, 0.456, 0.406])\n",
        "STD = torch.tensor([0.229, 0.224, 0.225])\n",
        "\n",
        "\n",
        "def visualize_augmentations(dataset, idx=0, samples=10, cols=5):\n",
        "    dataset = copy.deepcopy(dataset)\n",
        "    dataset.transform = expample_transform\n",
        "    rows = samples // cols\n",
        "    figure, ax = plt.subplots(nrows=rows, ncols=cols, figsize=(12, 6))\n",
        "    for i in range(samples):\n",
        "        image, _ = dataset[idx]\n",
        "        # image = image / 2 + 0.5     # unnormalize\n",
        "        image = image * STD[:, None, None] + MEAN[:, None, None]\n",
        "        # plt.imshow(x.numpy().transpose(1, 2, 0))\n",
        "        ax.ravel()[i].imshow(np.transpose(image, (1, 2, 0)))\n",
        "        ax.ravel()[i].set_axis_off()\n",
        "    plt.tight_layout()\n",
        "    plt.show()"
      ]
    },
    {
      "cell_type": "code",
      "execution_count": 10,
      "metadata": {
        "colab": {
          "base_uri": "https://localhost:8080/",
          "height": 403
        },
        "id": "dN3xkDaXIy0o",
        "outputId": "bddbd141-50a4-48fa-a1a1-c4cc278ce3ba"
      },
      "outputs": [
        {
          "name": "stdout",
          "output_type": "stream",
          "text": [
            "Files already downloaded and verified\n"
          ]
        },
        {
          "data": {
            "image/png": "[encoded data removed]",
            "text/plain": [
              "<Figure size 864x432 with 10 Axes>"
            ]
          },
          "metadata": {
            "needs_background": "light",
            "tags": []
          },
          "output_type": "display_data"
        }
      ],
      "source": [
        "trainset = torchvision.datasets.CIFAR10(root='./data', train=True,download=True)\n",
        "random.seed(42)\n",
        "visualize_augmentations(trainset,5)"
      ]
    },
    {
      "cell_type": "code",
      "execution_count": 11,
      "metadata": {
        "id": "ylDZkl8INAQO"
      },
      "outputs": [],
      "source": [
        "channel_means = (0.4919, 0.4827, 0.4472)\n",
        "channel_stdevs = (0.2470, 0.2434, 0.2616)\n",
        "\n",
        "train_transforms = AlbumentationTransforms([\n",
        "                                       A.HorizontalFlip(),\n",
        "                                       A.ShiftScaleRotate(shift_limit=0.05, scale_limit=0.05, rotate_limit=15, p=0.5),\n",
        "                                       A.CoarseDropout(max_holes = 1, max_height=16, max_width=16,  min_holes = 1, min_height=16, min_width=16, \n",
        "                                                       fill_value=channel_means, mask_fill_value = None),\n",
        "                                       A.Normalize(mean=channel_means, std=channel_stdevs),\n",
        "                                       \n",
        "                                       ])\n",
        "# Test Phase transformations\n",
        "test_transforms = AlbumentationTransforms([A.Normalize(mean=channel_means, std=channel_stdevs)])"
      ]
    },
    {
      "cell_type": "code",
      "execution_count": 12,
      "metadata": {
        "colab": {
          "base_uri": "https://localhost:8080/"
        },
        "id": "1oQOeQ3zGL2u",
        "outputId": "3e29014f-5353-44b7-c089-e61d4ea41e98"
      },
      "outputs": [
        {
          "name": "stdout",
          "output_type": "stream",
          "text": [
            "Files already downloaded and verified\n",
            "Files already downloaded and verified\n"
          ]
        }
      ],
      "source": [
        "trainset = torchvision.datasets.CIFAR10(root='./data', train=True,\n",
        "                                        download=True, transform=train_transforms)\n",
        "\n",
        "\n",
        "testset = torchvision.datasets.CIFAR10(root='./data', train=False,\n",
        "                                       download=True, transform=test_transforms)\n",
        "\n",
        "\n",
        "classes = ('plane', 'car', 'bird', 'cat',\n",
        "           'deer', 'dog', 'frog', 'horse', 'ship', 'truck')"
      ]
    },
    {
      "cell_type": "code",
      "execution_count": 13,
      "metadata": {
        "colab": {
          "base_uri": "https://localhost:8080/"
        },
        "id": "m0aObyXUSiRk",
        "outputId": "519726ec-27f6-4513-c670-3b5ab73eb4b8"
      },
      "outputs": [
        {
          "name": "stdout",
          "output_type": "stream",
          "text": [
            "CUDA Available? True\n"
          ]
        },
        {
          "name": "stderr",
          "output_type": "stream",
          "text": [
            "/usr/local/lib/python3.7/dist-packages/torch/utils/data/dataloader.py:481: UserWarning: This DataLoader will create 4 worker processes in total. Our suggested max number of worker in current system is 2, which is smaller than what this DataLoader is going to create. Please be aware that excessive worker creation might get DataLoader running slow or even freeze, lower the worker number to avoid potential slowness/freeze if necessary.\n",
            "  cpuset_checked))\n"
          ]
        }
      ],
      "source": [
        "SEED = 1\n",
        "\n",
        "# CUDA?\n",
        "cuda = torch.cuda.is_available()\n",
        "print(\"CUDA Available?\", cuda)\n",
        "\n",
        "# For reproducibility\n",
        "torch.manual_seed(SEED)\n",
        "\n",
        "if cuda:\n",
        "    torch.cuda.manual_seed(SEED)\n",
        "\n",
        "# dataloader arguments - something you'll fetch these from cmdprmt\n",
        "dataloader_args = dict(shuffle=True, batch_size=128, num_workers=4, pin_memory=True) if cuda else dict(shuffle=True, batch_size=64)\n",
        "\n",
        "\n",
        "trainloader = torch.utils.data.DataLoader(trainset, **dataloader_args)\n",
        "testloader = torch.utils.data.DataLoader(testset, **dataloader_args)"
      ]
    },
    {
      "cell_type": "markdown",
      "metadata": {
        "id": "hXtROy2hVO92"
      },
      "source": [
        "# Data Statistics\n",
        "\n",
        "It is important to know your data very well. Let's check some of the statistics around our data and how it actually looks like"
      ]
    },
    {
      "cell_type": "code",
      "execution_count": 14,
      "metadata": {
        "colab": {
          "base_uri": "https://localhost:8080/"
        },
        "id": "7jrDzOUaVNYv",
        "outputId": "eda02d88-958a-40bd-ef99-885a3f2dc954"
      },
      "outputs": [
        {
          "name": "stdout",
          "output_type": "stream",
          "text": [
            "[Whole dataset ]\n",
            " - Numpy Shape: (60000, 32, 32, 3)\n",
            " - min: 0\n",
            " - max: 255\n",
            " - mean: 120.84449672851562\n",
            " - std: 64.13596441053241\n",
            " - var: 4113.421930869079\n",
            "[Per Channel, standardised stats]\n",
            " - mean: [0.4919 0.4827 0.4472]\n",
            " - std: [0.247  0.2434 0.2616]\n"
          ]
        }
      ],
      "source": [
        "data = np.concatenate((trainset.data, testset.data))\n",
        "\n",
        "\n",
        "print('[Whole dataset ]')\n",
        "print(' - Numpy Shape:', data.shape)\n",
        "print(' - min:', np.min(data))\n",
        "print(' - max:', np.max(data))\n",
        "print(' - mean:', np.mean(data))\n",
        "print(' - std:', np.std(data))\n",
        "print(' - var:', np.var(data))\n",
        "\n",
        "print('[Per Channel, standardised stats]')\n",
        "print(' - mean:', np.round(data.mean(axis=(0,1,2))/255, 4))\n",
        "print(' - std:', np.round(data.std(axis=(0,1,2))/255, 4))\n"
      ]
    },
    {
      "cell_type": "code",
      "execution_count": 15,
      "metadata": {
        "colab": {
          "base_uri": "https://localhost:8080/"
        },
        "id": "NMsU4IzbKIm3",
        "outputId": "b13c712f-e6d3-496e-80c1-25097de4a855"
      },
      "outputs": [
        {
          "data": {
            "text/plain": [
              "{'airplane': 0,\n",
              " 'automobile': 1,\n",
              " 'bird': 2,\n",
              " 'cat': 3,\n",
              " 'deer': 4,\n",
              " 'dog': 5,\n",
              " 'frog': 6,\n",
              " 'horse': 7,\n",
              " 'ship': 8,\n",
              " 'truck': 9}"
            ]
          },
          "execution_count": 15,
          "metadata": {
            "tags": []
          },
          "output_type": "execute_result"
        }
      ],
      "source": [
        "trainset.class_to_idx"
      ]
    },
    {
      "cell_type": "markdown",
      "metadata": {
        "id": "_cj433rtpoCn"
      },
      "source": [
        "Let us show some of the training images, for fun.\n",
        "\n"
      ]
    },
    {
      "cell_type": "code",
      "execution_count": 16,
      "metadata": {
        "colab": {
          "base_uri": "https://localhost:8080/",
          "height": 231
        },
        "id": "ylCeeOyYN2gS",
        "outputId": "6352f5b5-e95c-4a1c-d10b-a5b3a2708ace"
      },
      "outputs": [
        {
          "name": "stdout",
          "output_type": "stream",
          "text": [
            "Files already downloaded and verified\n",
            " ship  bird   cat   dog\n"
          ]
        },
        {
          "data": {
            "image/png": "[encoded data removed]",
            "text/plain": [
              "<Figure size 720x720 with 1 Axes>"
            ]
          },
          "metadata": {
            "needs_background": "light",
            "tags": []
          },
          "output_type": "display_data"
        }
      ],
      "source": [
        "transform = transforms.Compose([\n",
        "                                # transforms.RandomRotation((-7.0, 7.0), fill=(1,1,1)),\n",
        "                                transforms.ToTensor()\n",
        "                                # transforms.Normalize((0.5, 0.5, 0.5), (0.5, 0.5, 0.5))\n",
        "                               ])\n",
        "\n",
        "\n",
        "trainset_ex = torchvision.datasets.CIFAR10(root='./data', train=True,\n",
        "                                        download=True, transform=transform)\n",
        "trainloader_ex = torch.utils.data.DataLoader(trainset_ex, batch_size=4,\n",
        "                                          shuffle=True, num_workers=2)\n",
        "\n",
        "\n",
        "# functions to show an image\n",
        "def imshow(img):\n",
        "    # img = img / 2 + 0.5     # unnormalize\n",
        "    npimg = img.numpy()\n",
        "    plt.figure(figsize=(10,10))\n",
        "    plt.imshow(np.transpose(npimg, (1, 2, 0)))\n",
        "\n",
        "\n",
        "# get some random training images\n",
        "dataiter = iter(trainloader_ex)\n",
        "images, labels = dataiter.next()\n",
        "\n",
        "# show images\n",
        "imshow(torchvision.utils.make_grid(images))\n",
        "# print labels\n",
        "print(' '.join('%5s' % classes[labels[j]] for j in range(4)))"
      ]
    },
    {
      "cell_type": "markdown",
      "metadata": {
        "id": "28OpHA_LpoCq"
      },
      "source": [
        "2. Define a Convolution Neural Network\n",
        "\n",
        "\n"
      ]
    },
    {
      "cell_type": "code",
      "execution_count": 25,
      "metadata": {
        "id": "h_oAabiDVkDp"
      },
      "outputs": [],
      "source": [
        "import model"
      ]
    },
    {
      "cell_type": "code",
      "execution_count": 18,
      "metadata": {
        "colab": {
          "base_uri": "https://localhost:8080/"
        },
        "id": "6Qm9ocgyaMCj",
        "outputId": "9a21a15b-4f64-4a6a-97fe-d2925f64ed28"
      },
      "outputs": [
        {
          "name": "stdout",
          "output_type": "stream",
          "text": [
            "Requirement already satisfied: torchsummary in /usr/local/lib/python3.7/dist-packages (1.5.1)\n",
            "cuda\n",
            "----------------------------------------------------------------\n",
            "        Layer (type)               Output Shape         Param #\n",
            "================================================================\n",
            "            Conv2d-1           [-1, 32, 32, 32]             864\n",
            "              ReLU-2           [-1, 32, 32, 32]               0\n",
            "       BatchNorm2d-3           [-1, 32, 32, 32]              64\n",
            "           Dropout-4           [-1, 32, 32, 32]               0\n",
            "            Conv2d-5           [-1, 64, 32, 32]          18,432\n",
            "              ReLU-6           [-1, 64, 32, 32]               0\n",
            "       BatchNorm2d-7           [-1, 64, 32, 32]             128\n",
            "           Dropout-8           [-1, 64, 32, 32]               0\n",
            "            Conv2d-9           [-1, 64, 32, 32]          36,864\n",
            "             ReLU-10           [-1, 64, 32, 32]               0\n",
            "      BatchNorm2d-11           [-1, 64, 32, 32]             128\n",
            "          Dropout-12           [-1, 64, 32, 32]               0\n",
            "           Conv2d-13           [-1, 64, 16, 16]          36,864\n",
            "           Conv2d-14           [-1, 16, 16, 16]           1,024\n",
            "           Conv2d-15           [-1, 32, 16, 16]           4,608\n",
            "             ReLU-16           [-1, 32, 16, 16]               0\n",
            "      BatchNorm2d-17           [-1, 32, 16, 16]              64\n",
            "          Dropout-18           [-1, 32, 16, 16]               0\n",
            "           Conv2d-19           [-1, 64, 16, 16]          18,432\n",
            "             ReLU-20           [-1, 64, 16, 16]               0\n",
            "      BatchNorm2d-21           [-1, 64, 16, 16]             128\n",
            "          Dropout-22           [-1, 64, 16, 16]               0\n",
            "           Conv2d-23             [-1, 64, 8, 8]          36,864\n",
            "           Conv2d-24             [-1, 16, 8, 8]           1,024\n",
            "           Conv2d-25             [-1, 32, 8, 8]             288\n",
            "           Conv2d-26             [-1, 32, 8, 8]           1,024\n",
            "             ReLU-27             [-1, 32, 8, 8]               0\n",
            "      BatchNorm2d-28             [-1, 32, 8, 8]              64\n",
            "          Dropout-29             [-1, 32, 8, 8]               0\n",
            "           Conv2d-30             [-1, 64, 8, 8]             576\n",
            "           Conv2d-31             [-1, 64, 8, 8]           4,096\n",
            "             ReLU-32             [-1, 64, 8, 8]               0\n",
            "      BatchNorm2d-33             [-1, 64, 8, 8]             128\n",
            "          Dropout-34             [-1, 64, 8, 8]               0\n",
            "           Conv2d-35             [-1, 32, 6, 6]          18,432\n",
            "             ReLU-36             [-1, 32, 6, 6]               0\n",
            "      BatchNorm2d-37             [-1, 32, 6, 6]              64\n",
            "          Dropout-38             [-1, 32, 6, 6]               0\n",
            "        AvgPool2d-39             [-1, 32, 1, 1]               0\n",
            "           Conv2d-40             [-1, 10, 1, 1]             320\n",
            "================================================================\n",
            "Total params: 180,480\n",
            "Trainable params: 180,480\n",
            "Non-trainable params: 0\n",
            "----------------------------------------------------------------\n",
            "Input size (MB): 0.01\n",
            "Forward/backward pass size (MB): 6.22\n",
            "Params size (MB): 0.69\n",
            "Estimated Total Size (MB): 6.92\n",
            "----------------------------------------------------------------\n"
          ]
        }
      ],
      "source": [
        "!pip install torchsummary\n",
        "from torchsummary import summary\n",
        "use_cuda = torch.cuda.is_available()\n",
        "device = torch.device(\"cuda\" if use_cuda else \"cpu\")\n",
        "print(device)\n",
        "model = model.Net().to(device)\n",
        "summary(model, input_size=(3, 32, 32))"
      ]
    },
    {
      "cell_type": "code",
      "execution_count": 19,
      "metadata": {
        "id": "FsHqK1A0Synb"
      },
      "outputs": [],
      "source": [
        "#Training & Testing Loops\n",
        "from tqdm import tqdm\n",
        "\n",
        "train_losses = []\n",
        "test_losses = []\n",
        "train_accuracy = []\n",
        "test_accuracy = []\n",
        "\n",
        "def train(model, device, train_loader, optimizer, criterion, epoch):\n",
        "  model.train()\n",
        "  \n",
        "  correct = 0\n",
        "  processed = 0\n",
        "  train_loss = 0\n",
        "\n",
        "  pbar = tqdm(train_loader)\n",
        "  for batch_idx, (data, target) in enumerate(pbar):\n",
        "    # get samples\n",
        "    data, target = data.to(device), target.to(device)\n",
        "    \n",
        "    # Init\n",
        "    optimizer.zero_grad()\n",
        "    # In PyTorch, we need to set the gradients to zero before starting to do backpropragation because PyTorch accumulates the gradients on subsequent backward passes. \n",
        "    # Because of this, when you start your training loop, ideally you should zero out the gradients so that you do the parameter update correctly.\n",
        "\n",
        "    # Predict\n",
        "    y_pred = model(data)\n",
        "\n",
        "    # Calculate loss\n",
        "    loss = criterion(y_pred, target)\n",
        "    train_loss += loss.item()\n",
        "\n",
        "    # Backpropagation\n",
        "    loss.backward()\n",
        "    optimizer.step()\n",
        "\n",
        "    # Update pbar-tqdm\n",
        "    \n",
        "    pred = y_pred.argmax(dim=1, keepdim=True)  # get the index of the max log-probability\n",
        "    correct += pred.eq(target.view_as(pred)).sum().item()\n",
        "    processed += len(data)\n",
        "\n",
        "    pbar.set_description(desc= f'Loss={loss.item()} Batch_id={batch_idx} Accuracy={100*correct/processed:0.2f}')\n",
        "\n",
        "  train_loss /= len(train_loader.dataset)    \n",
        "  train_losses.append(train_loss)\n",
        "  train_accuracy.append(100. * correct / len(train_loader.dataset)) \n",
        "\n",
        "\n",
        "    "
      ]
    },
    {
      "cell_type": "code",
      "execution_count": 20,
      "metadata": {
        "id": "QSpvlUWkVm24"
      },
      "outputs": [],
      "source": [
        "def test(model, device, criterion, test_loader):\n",
        "    model.eval()\n",
        "\n",
        "    test_loss = 0\n",
        "    correct = 0\n",
        "\n",
        "    with torch.no_grad():\n",
        "        for data, target in test_loader:\n",
        "            data, target = data.to(device), target.to(device)\n",
        "            output = model(data)\n",
        "            test_loss += criterion(output, target).item()  # sum up batch loss\n",
        "            pred = output.argmax(dim=1, keepdim=True)  # get the index of the max log-probability\n",
        "            correct += pred.eq(target.view_as(pred)).sum().item()  \n",
        "\n",
        "    test_loss /= len(test_loader.dataset)\n",
        "    test_losses.append(test_loss)\n",
        "    test_accuracy.append(100. * correct / len(test_loader.dataset))\n",
        "\n",
        "    print('\\nTest set: Average loss: {:.4f}, Accuracy: {}/{} ({:.2f}%)\\n'.format(\n",
        "        test_loss, correct, len(test_loader.dataset),\n",
        "        100. * correct / len(test_loader.dataset)))\n",
        "    "
      ]
    },
    {
      "cell_type": "markdown",
      "metadata": {
        "id": "Wdw2NNCUpoCu"
      },
      "source": [
        "3. Define a Loss function and optimizer. Let's use a Classification Cross-Entropy loss and SGD with momentum.\n",
        "\n"
      ]
    },
    {
      "cell_type": "code",
      "execution_count": 21,
      "metadata": {
        "id": "M4xBbDROpoCv"
      },
      "outputs": [],
      "source": [
        "import torch.optim as optim\n",
        "from torch.optim.lr_scheduler import StepLR , MultiStepLR\n",
        "\n",
        "model = model.Net().to(device)\n",
        "criterion = nn.CrossEntropyLoss()\n",
        "optimizer = optim.SGD(model.parameters(), lr=0.01, momentum=0.9)\n",
        "# scheduler = StepLR(optimizer, step_size=12, gamma=0.1)"
      ]
    },
    {
      "cell_type": "code",
      "execution_count": 22,
      "metadata": {
        "colab": {
          "base_uri": "https://localhost:8080/"
        },
        "id": "gW65yMCXSVuy",
        "outputId": "737d7fff-459e-4e2b-a9ae-a8676bda4c3c"
      },
      "outputs": [
        {
          "name": "stderr",
          "output_type": "stream",
          "text": [
            "\r  0%|          | 0/391 [00:00<?, ?it/s]"
          ]
        },
        {
          "name": "stdout",
          "output_type": "stream",
          "text": [
            "EPOCH: 1 LR: 0.01\n"
          ]
        },
        {
          "name": "stderr",
          "output_type": "stream",
          "text": [
            "/usr/local/lib/python3.7/dist-packages/torch/utils/data/dataloader.py:481: UserWarning: This DataLoader will create 4 worker processes in total. Our suggested max number of worker in current system is 2, which is smaller than what this DataLoader is going to create. Please be aware that excessive worker creation might get DataLoader running slow or even freeze, lower the worker number to avoid potential slowness/freeze if necessary.\n",
            "  cpuset_checked))\n",
            "Loss=1.4727712869644165 Batch_id=390 Accuracy=38.26: 100%|██████████| 391/391 [00:19<00:00, 20.22it/s]\n",
            "  0%|          | 0/391 [00:00<?, ?it/s]"
          ]
        },
        {
          "name": "stdout",
          "output_type": "stream",
          "text": [
            "\n",
            "Test set: Average loss: 0.0113, Accuracy: 4756/10000 (47.56%)\n",
            "\n",
            "EPOCH: 2 LR: 0.01\n"
          ]
        },
        {
          "name": "stderr",
          "output_type": "stream",
          "text": [
            "Loss=1.3764817714691162 Batch_id=390 Accuracy=51.46: 100%|██████████| 391/391 [00:19<00:00, 20.25it/s]\n",
            "  0%|          | 0/391 [00:00<?, ?it/s]"
          ]
        },
        {
          "name": "stdout",
          "output_type": "stream",
          "text": [
            "\n",
            "Test set: Average loss: 0.0090, Accuracy: 5881/10000 (58.81%)\n",
            "\n",
            "EPOCH: 3 LR: 0.01\n"
          ]
        },
        {
          "name": "stderr",
          "output_type": "stream",
          "text": [
            "Loss=1.0788183212280273 Batch_id=390 Accuracy=57.45: 100%|██████████| 391/391 [00:19<00:00, 20.21it/s]\n",
            "  0%|          | 0/391 [00:00<?, ?it/s]"
          ]
        },
        {
          "name": "stdout",
          "output_type": "stream",
          "text": [
            "\n",
            "Test set: Average loss: 0.0079, Accuracy: 6486/10000 (64.86%)\n",
            "\n",
            "EPOCH: 4 LR: 0.01\n"
          ]
        },
        {
          "name": "stderr",
          "output_type": "stream",
          "text": [
            "Loss=0.8696190714836121 Batch_id=390 Accuracy=61.81: 100%|██████████| 391/391 [00:19<00:00, 20.17it/s]\n",
            "  0%|          | 0/391 [00:00<?, ?it/s]"
          ]
        },
        {
          "name": "stdout",
          "output_type": "stream",
          "text": [
            "\n",
            "Test set: Average loss: 0.0067, Accuracy: 6959/10000 (69.59%)\n",
            "\n",
            "EPOCH: 5 LR: 0.01\n"
          ]
        },
        {
          "name": "stderr",
          "output_type": "stream",
          "text": [
            "Loss=0.9973271489143372 Batch_id=390 Accuracy=65.00: 100%|██████████| 391/391 [00:19<00:00, 20.23it/s]\n",
            "  0%|          | 0/391 [00:00<?, ?it/s]"
          ]
        },
        {
          "name": "stdout",
          "output_type": "stream",
          "text": [
            "\n",
            "Test set: Average loss: 0.0065, Accuracy: 7045/10000 (70.45%)\n",
            "\n",
            "EPOCH: 6 LR: 0.01\n"
          ]
        },
        {
          "name": "stderr",
          "output_type": "stream",
          "text": [
            "Loss=1.0591901540756226 Batch_id=390 Accuracy=67.31: 100%|██████████| 391/391 [00:19<00:00, 20.31it/s]\n",
            "  0%|          | 0/391 [00:00<?, ?it/s]"
          ]
        },
        {
          "name": "stdout",
          "output_type": "stream",
          "text": [
            "\n",
            "Test set: Average loss: 0.0059, Accuracy: 7385/10000 (73.85%)\n",
            "\n",
            "EPOCH: 7 LR: 0.01\n"
          ]
        },
        {
          "name": "stderr",
          "output_type": "stream",
          "text": [
            "Loss=0.8970058560371399 Batch_id=390 Accuracy=69.22: 100%|██████████| 391/391 [00:19<00:00, 20.30it/s]\n",
            "  0%|          | 0/391 [00:00<?, ?it/s]"
          ]
        },
        {
          "name": "stdout",
          "output_type": "stream",
          "text": [
            "\n",
            "Test set: Average loss: 0.0055, Accuracy: 7566/10000 (75.66%)\n",
            "\n",
            "EPOCH: 8 LR: 0.01\n"
          ]
        },
        {
          "name": "stderr",
          "output_type": "stream",
          "text": [
            "Loss=0.4595392644405365 Batch_id=390 Accuracy=70.54: 100%|██████████| 391/391 [00:19<00:00, 20.22it/s]\n",
            "  0%|          | 0/391 [00:00<?, ?it/s]"
          ]
        },
        {
          "name": "stdout",
          "output_type": "stream",
          "text": [
            "\n",
            "Test set: Average loss: 0.0056, Accuracy: 7571/10000 (75.71%)\n",
            "\n",
            "EPOCH: 9 LR: 0.01\n"
          ]
        },
        {
          "name": "stderr",
          "output_type": "stream",
          "text": [
            "Loss=1.1188665628433228 Batch_id=390 Accuracy=71.48: 100%|██████████| 391/391 [00:19<00:00, 20.15it/s]\n",
            "  0%|          | 0/391 [00:00<?, ?it/s]"
          ]
        },
        {
          "name": "stdout",
          "output_type": "stream",
          "text": [
            "\n",
            "Test set: Average loss: 0.0049, Accuracy: 7850/10000 (78.50%)\n",
            "\n",
            "EPOCH: 10 LR: 0.01\n"
          ]
        },
        {
          "name": "stderr",
          "output_type": "stream",
          "text": [
            "Loss=0.7544733285903931 Batch_id=390 Accuracy=72.86: 100%|██████████| 391/391 [00:19<00:00, 20.30it/s]\n",
            "  0%|          | 0/391 [00:00<?, ?it/s]"
          ]
        },
        {
          "name": "stdout",
          "output_type": "stream",
          "text": [
            "\n",
            "Test set: Average loss: 0.0048, Accuracy: 7905/10000 (79.05%)\n",
            "\n",
            "EPOCH: 11 LR: 0.01\n"
          ]
        },
        {
          "name": "stderr",
          "output_type": "stream",
          "text": [
            "Loss=0.9426683187484741 Batch_id=390 Accuracy=73.68: 100%|██████████| 391/391 [00:19<00:00, 20.23it/s]\n",
            "  0%|          | 0/391 [00:00<?, ?it/s]"
          ]
        },
        {
          "name": "stdout",
          "output_type": "stream",
          "text": [
            "\n",
            "Test set: Average loss: 0.0048, Accuracy: 7923/10000 (79.23%)\n",
            "\n",
            "EPOCH: 12 LR: 0.01\n"
          ]
        },
        {
          "name": "stderr",
          "output_type": "stream",
          "text": [
            "Loss=0.8250740766525269 Batch_id=390 Accuracy=74.23: 100%|██████████| 391/391 [00:19<00:00, 20.22it/s]\n",
            "  0%|          | 0/391 [00:00<?, ?it/s]"
          ]
        },
        {
          "name": "stdout",
          "output_type": "stream",
          "text": [
            "\n",
            "Test set: Average loss: 0.0046, Accuracy: 8030/10000 (80.30%)\n",
            "\n",
            "EPOCH: 13 LR: 0.01\n"
          ]
        },
        {
          "name": "stderr",
          "output_type": "stream",
          "text": [
            "Loss=0.6931015849113464 Batch_id=390 Accuracy=74.51: 100%|██████████| 391/391 [00:19<00:00, 20.18it/s]\n",
            "  0%|          | 0/391 [00:00<?, ?it/s]"
          ]
        },
        {
          "name": "stdout",
          "output_type": "stream",
          "text": [
            "\n",
            "Test set: Average loss: 0.0044, Accuracy: 8050/10000 (80.50%)\n",
            "\n",
            "EPOCH: 14 LR: 0.01\n"
          ]
        },
        {
          "name": "stderr",
          "output_type": "stream",
          "text": [
            "Loss=0.6750600934028625 Batch_id=390 Accuracy=75.36: 100%|██████████| 391/391 [00:19<00:00, 20.10it/s]\n",
            "  0%|          | 0/391 [00:00<?, ?it/s]"
          ]
        },
        {
          "name": "stdout",
          "output_type": "stream",
          "text": [
            "\n",
            "Test set: Average loss: 0.0044, Accuracy: 8099/10000 (80.99%)\n",
            "\n",
            "EPOCH: 15 LR: 0.01\n"
          ]
        },
        {
          "name": "stderr",
          "output_type": "stream",
          "text": [
            "Loss=0.6707311272621155 Batch_id=390 Accuracy=75.73: 100%|██████████| 391/391 [00:19<00:00, 20.30it/s]\n",
            "  0%|          | 0/391 [00:00<?, ?it/s]"
          ]
        },
        {
          "name": "stdout",
          "output_type": "stream",
          "text": [
            "\n",
            "Test set: Average loss: 0.0042, Accuracy: 8179/10000 (81.79%)\n",
            "\n",
            "EPOCH: 16 LR: 0.01\n"
          ]
        },
        {
          "name": "stderr",
          "output_type": "stream",
          "text": [
            "Loss=0.6509031653404236 Batch_id=390 Accuracy=76.18: 100%|██████████| 391/391 [00:19<00:00, 19.98it/s]\n",
            "  0%|          | 0/391 [00:00<?, ?it/s]"
          ]
        },
        {
          "name": "stdout",
          "output_type": "stream",
          "text": [
            "\n",
            "Test set: Average loss: 0.0041, Accuracy: 8181/10000 (81.81%)\n",
            "\n",
            "EPOCH: 17 LR: 0.01\n"
          ]
        },
        {
          "name": "stderr",
          "output_type": "stream",
          "text": [
            "Loss=0.5909302830696106 Batch_id=390 Accuracy=76.62: 100%|██████████| 391/391 [00:19<00:00, 20.18it/s]\n",
            "  0%|          | 0/391 [00:00<?, ?it/s]"
          ]
        },
        {
          "name": "stdout",
          "output_type": "stream",
          "text": [
            "\n",
            "Test set: Average loss: 0.0041, Accuracy: 8225/10000 (82.25%)\n",
            "\n",
            "EPOCH: 18 LR: 0.01\n"
          ]
        },
        {
          "name": "stderr",
          "output_type": "stream",
          "text": [
            "Loss=0.5715233087539673 Batch_id=390 Accuracy=77.08: 100%|██████████| 391/391 [00:19<00:00, 20.10it/s]\n",
            "  0%|          | 0/391 [00:00<?, ?it/s]"
          ]
        },
        {
          "name": "stdout",
          "output_type": "stream",
          "text": [
            "\n",
            "Test set: Average loss: 0.0040, Accuracy: 8232/10000 (82.32%)\n",
            "\n",
            "EPOCH: 19 LR: 0.01\n"
          ]
        },
        {
          "name": "stderr",
          "output_type": "stream",
          "text": [
            "Loss=0.7294028997421265 Batch_id=390 Accuracy=77.35: 100%|██████████| 391/391 [00:19<00:00, 20.13it/s]\n",
            "  0%|          | 0/391 [00:00<?, ?it/s]"
          ]
        },
        {
          "name": "stdout",
          "output_type": "stream",
          "text": [
            "\n",
            "Test set: Average loss: 0.0040, Accuracy: 8240/10000 (82.40%)\n",
            "\n",
            "EPOCH: 20 LR: 0.01\n"
          ]
        },
        {
          "name": "stderr",
          "output_type": "stream",
          "text": [
            "Loss=0.6213346719741821 Batch_id=390 Accuracy=77.59: 100%|██████████| 391/391 [00:19<00:00, 20.15it/s]\n",
            "  0%|          | 0/391 [00:00<?, ?it/s]"
          ]
        },
        {
          "name": "stdout",
          "output_type": "stream",
          "text": [
            "\n",
            "Test set: Average loss: 0.0040, Accuracy: 8238/10000 (82.38%)\n",
            "\n",
            "EPOCH: 21 LR: 0.01\n"
          ]
        },
        {
          "name": "stderr",
          "output_type": "stream",
          "text": [
            "Loss=0.751609206199646 Batch_id=390 Accuracy=77.83: 100%|██████████| 391/391 [00:19<00:00, 20.15it/s]\n",
            "  0%|          | 0/391 [00:00<?, ?it/s]"
          ]
        },
        {
          "name": "stdout",
          "output_type": "stream",
          "text": [
            "\n",
            "Test set: Average loss: 0.0039, Accuracy: 8345/10000 (83.45%)\n",
            "\n",
            "EPOCH: 22 LR: 0.01\n"
          ]
        },
        {
          "name": "stderr",
          "output_type": "stream",
          "text": [
            "Loss=0.5340527892112732 Batch_id=390 Accuracy=78.15: 100%|██████████| 391/391 [00:19<00:00, 20.11it/s]\n",
            "  0%|          | 0/391 [00:00<?, ?it/s]"
          ]
        },
        {
          "name": "stdout",
          "output_type": "stream",
          "text": [
            "\n",
            "Test set: Average loss: 0.0038, Accuracy: 8338/10000 (83.38%)\n",
            "\n",
            "EPOCH: 23 LR: 0.01\n"
          ]
        },
        {
          "name": "stderr",
          "output_type": "stream",
          "text": [
            "Loss=0.7555422186851501 Batch_id=390 Accuracy=78.63: 100%|██████████| 391/391 [00:19<00:00, 20.21it/s]\n",
            "  0%|          | 0/391 [00:00<?, ?it/s]"
          ]
        },
        {
          "name": "stdout",
          "output_type": "stream",
          "text": [
            "\n",
            "Test set: Average loss: 0.0036, Accuracy: 8422/10000 (84.22%)\n",
            "\n",
            "EPOCH: 24 LR: 0.01\n"
          ]
        },
        {
          "name": "stderr",
          "output_type": "stream",
          "text": [
            "Loss=0.6098966002464294 Batch_id=390 Accuracy=78.96: 100%|██████████| 391/391 [00:19<00:00, 20.08it/s]\n",
            "  0%|          | 0/391 [00:00<?, ?it/s]"
          ]
        },
        {
          "name": "stdout",
          "output_type": "stream",
          "text": [
            "\n",
            "Test set: Average loss: 0.0037, Accuracy: 8406/10000 (84.06%)\n",
            "\n",
            "EPOCH: 25 LR: 0.01\n"
          ]
        },
        {
          "name": "stderr",
          "output_type": "stream",
          "text": [
            "Loss=0.5982983708381653 Batch_id=390 Accuracy=78.96: 100%|██████████| 391/391 [00:19<00:00, 20.08it/s]\n",
            "  0%|          | 0/391 [00:00<?, ?it/s]"
          ]
        },
        {
          "name": "stdout",
          "output_type": "stream",
          "text": [
            "\n",
            "Test set: Average loss: 0.0036, Accuracy: 8397/10000 (83.97%)\n",
            "\n",
            "EPOCH: 26 LR: 0.01\n"
          ]
        },
        {
          "name": "stderr",
          "output_type": "stream",
          "text": [
            "Loss=0.49593210220336914 Batch_id=390 Accuracy=79.15: 100%|██████████| 391/391 [00:19<00:00, 20.05it/s]\n",
            "  0%|          | 0/391 [00:00<?, ?it/s]"
          ]
        },
        {
          "name": "stdout",
          "output_type": "stream",
          "text": [
            "\n",
            "Test set: Average loss: 0.0035, Accuracy: 8489/10000 (84.89%)\n",
            "\n",
            "EPOCH: 27 LR: 0.01\n"
          ]
        },
        {
          "name": "stderr",
          "output_type": "stream",
          "text": [
            "Loss=0.6492916941642761 Batch_id=390 Accuracy=79.17: 100%|██████████| 391/391 [00:19<00:00, 19.97it/s]\n",
            "  0%|          | 0/391 [00:00<?, ?it/s]"
          ]
        },
        {
          "name": "stdout",
          "output_type": "stream",
          "text": [
            "\n",
            "Test set: Average loss: 0.0036, Accuracy: 8398/10000 (83.98%)\n",
            "\n",
            "EPOCH: 28 LR: 0.01\n"
          ]
        },
        {
          "name": "stderr",
          "output_type": "stream",
          "text": [
            "Loss=0.6569637060165405 Batch_id=390 Accuracy=79.80: 100%|██████████| 391/391 [00:19<00:00, 20.01it/s]\n",
            "  0%|          | 0/391 [00:00<?, ?it/s]"
          ]
        },
        {
          "name": "stdout",
          "output_type": "stream",
          "text": [
            "\n",
            "Test set: Average loss: 0.0034, Accuracy: 8512/10000 (85.12%)\n",
            "\n",
            "EPOCH: 29 LR: 0.01\n"
          ]
        },
        {
          "name": "stderr",
          "output_type": "stream",
          "text": [
            "Loss=0.9302269220352173 Batch_id=390 Accuracy=79.82: 100%|██████████| 391/391 [00:19<00:00, 20.14it/s]\n",
            "  0%|          | 0/391 [00:00<?, ?it/s]"
          ]
        },
        {
          "name": "stdout",
          "output_type": "stream",
          "text": [
            "\n",
            "Test set: Average loss: 0.0034, Accuracy: 8525/10000 (85.25%)\n",
            "\n",
            "EPOCH: 30 LR: 0.01\n"
          ]
        },
        {
          "name": "stderr",
          "output_type": "stream",
          "text": [
            "Loss=0.7400177717208862 Batch_id=390 Accuracy=79.93: 100%|██████████| 391/391 [00:19<00:00, 20.01it/s]\n",
            "  0%|          | 0/391 [00:00<?, ?it/s]"
          ]
        },
        {
          "name": "stdout",
          "output_type": "stream",
          "text": [
            "\n",
            "Test set: Average loss: 0.0034, Accuracy: 8505/10000 (85.05%)\n",
            "\n",
            "EPOCH: 31 LR: 0.01\n"
          ]
        },
        {
          "name": "stderr",
          "output_type": "stream",
          "text": [
            "Loss=0.6665648221969604 Batch_id=390 Accuracy=80.13: 100%|██████████| 391/391 [00:19<00:00, 20.03it/s]\n",
            "  0%|          | 0/391 [00:00<?, ?it/s]"
          ]
        },
        {
          "name": "stdout",
          "output_type": "stream",
          "text": [
            "\n",
            "Test set: Average loss: 0.0034, Accuracy: 8518/10000 (85.18%)\n",
            "\n",
            "EPOCH: 32 LR: 0.01\n"
          ]
        },
        {
          "name": "stderr",
          "output_type": "stream",
          "text": [
            "Loss=0.516119122505188 Batch_id=390 Accuracy=80.47: 100%|██████████| 391/391 [00:19<00:00, 20.13it/s]\n",
            "  0%|          | 0/391 [00:00<?, ?it/s]"
          ]
        },
        {
          "name": "stdout",
          "output_type": "stream",
          "text": [
            "\n",
            "Test set: Average loss: 0.0033, Accuracy: 8564/10000 (85.64%)\n",
            "\n",
            "EPOCH: 33 LR: 0.01\n"
          ]
        },
        {
          "name": "stderr",
          "output_type": "stream",
          "text": [
            "Loss=0.6816364526748657 Batch_id=390 Accuracy=80.50: 100%|██████████| 391/391 [00:19<00:00, 19.99it/s]\n",
            "  0%|          | 0/391 [00:00<?, ?it/s]"
          ]
        },
        {
          "name": "stdout",
          "output_type": "stream",
          "text": [
            "\n",
            "Test set: Average loss: 0.0033, Accuracy: 8552/10000 (85.52%)\n",
            "\n",
            "EPOCH: 34 LR: 0.01\n"
          ]
        },
        {
          "name": "stderr",
          "output_type": "stream",
          "text": [
            "Loss=0.43164199590682983 Batch_id=390 Accuracy=80.74: 100%|██████████| 391/391 [00:19<00:00, 20.07it/s]\n",
            "  0%|          | 0/391 [00:00<?, ?it/s]"
          ]
        },
        {
          "name": "stdout",
          "output_type": "stream",
          "text": [
            "\n",
            "Test set: Average loss: 0.0033, Accuracy: 8568/10000 (85.68%)\n",
            "\n",
            "EPOCH: 35 LR: 0.01\n"
          ]
        },
        {
          "name": "stderr",
          "output_type": "stream",
          "text": [
            "Loss=0.5255609750747681 Batch_id=390 Accuracy=80.84: 100%|██████████| 391/391 [00:19<00:00, 19.78it/s]\n",
            "  0%|          | 0/391 [00:00<?, ?it/s]"
          ]
        },
        {
          "name": "stdout",
          "output_type": "stream",
          "text": [
            "\n",
            "Test set: Average loss: 0.0032, Accuracy: 8608/10000 (86.08%)\n",
            "\n",
            "EPOCH: 36 LR: 0.01\n"
          ]
        },
        {
          "name": "stderr",
          "output_type": "stream",
          "text": [
            "Loss=0.5647810101509094 Batch_id=390 Accuracy=80.91: 100%|██████████| 391/391 [00:19<00:00, 19.66it/s]\n",
            "  0%|          | 0/391 [00:00<?, ?it/s]"
          ]
        },
        {
          "name": "stdout",
          "output_type": "stream",
          "text": [
            "\n",
            "Test set: Average loss: 0.0034, Accuracy: 8543/10000 (85.43%)\n",
            "\n",
            "EPOCH: 37 LR: 0.01\n"
          ]
        },
        {
          "name": "stderr",
          "output_type": "stream",
          "text": [
            "Loss=0.5982815623283386 Batch_id=390 Accuracy=81.50: 100%|██████████| 391/391 [00:19<00:00, 19.55it/s]\n",
            "  0%|          | 0/391 [00:00<?, ?it/s]"
          ]
        },
        {
          "name": "stdout",
          "output_type": "stream",
          "text": [
            "\n",
            "Test set: Average loss: 0.0032, Accuracy: 8603/10000 (86.03%)\n",
            "\n",
            "EPOCH: 38 LR: 0.01\n"
          ]
        },
        {
          "name": "stderr",
          "output_type": "stream",
          "text": [
            "Loss=0.5744844675064087 Batch_id=390 Accuracy=81.10: 100%|██████████| 391/391 [00:19<00:00, 19.65it/s]\n",
            "  0%|          | 0/391 [00:00<?, ?it/s]"
          ]
        },
        {
          "name": "stdout",
          "output_type": "stream",
          "text": [
            "\n",
            "Test set: Average loss: 0.0033, Accuracy: 8545/10000 (85.45%)\n",
            "\n",
            "EPOCH: 39 LR: 0.01\n"
          ]
        },
        {
          "name": "stderr",
          "output_type": "stream",
          "text": [
            "Loss=0.46863603591918945 Batch_id=390 Accuracy=81.26: 100%|██████████| 391/391 [00:19<00:00, 19.84it/s]\n",
            "  0%|          | 0/391 [00:00<?, ?it/s]"
          ]
        },
        {
          "name": "stdout",
          "output_type": "stream",
          "text": [
            "\n",
            "Test set: Average loss: 0.0033, Accuracy: 8579/10000 (85.79%)\n",
            "\n",
            "EPOCH: 40 LR: 0.01\n"
          ]
        },
        {
          "name": "stderr",
          "output_type": "stream",
          "text": [
            "Loss=0.7108942270278931 Batch_id=390 Accuracy=81.50: 100%|██████████| 391/391 [00:19<00:00, 20.03it/s]\n"
          ]
        },
        {
          "name": "stdout",
          "output_type": "stream",
          "text": [
            "\n",
            "Test set: Average loss: 0.0032, Accuracy: 8646/10000 (86.46%)\n",
            "\n"
          ]
        }
      ],
      "source": [
        "EPOCHS = 40\n",
        "\n",
        "for epoch in range(EPOCHS):\n",
        "    print(\"EPOCH:\", epoch+1, 'LR:',optimizer.param_groups[0]['lr'])\n",
        "    train(model, device, trainloader, optimizer, criterion, epoch)\n",
        "    # scheduler.step()\n",
        "    test(model, device, criterion, testloader)"
      ]
    },
    {
      "cell_type": "markdown",
      "metadata": {
        "id": "b_WaOwnJJu-4"
      },
      "source": [
        "Plotting the misclassified image"
      ]
    },
    {
      "cell_type": "code",
      "execution_count": 23,
      "metadata": {
        "colab": {
          "base_uri": "https://localhost:8080/",
          "height": 967
        },
        "id": "Fbom64ysRRyR",
        "outputId": "f915a79c-cda5-41a9-a71d-3d574ff4385d"
      },
      "outputs": [
        {
          "name": "stderr",
          "output_type": "stream",
          "text": [
            "/usr/local/lib/python3.7/dist-packages/torch/utils/data/dataloader.py:481: UserWarning: This DataLoader will create 4 worker processes in total. Our suggested max number of worker in current system is 2, which is smaller than what this DataLoader is going to create. Please be aware that excessive worker creation might get DataLoader running slow or even freeze, lower the worker number to avoid potential slowness/freeze if necessary.\n",
            "  cpuset_checked))\n"
          ]
        },
        {
          "data": {
            "image/png": "[encoded data removed]",
            "text/plain": [
              "<Figure size 720x720 with 10 Axes>"
            ]
          },
          "metadata": {
            "needs_background": "light",
            "tags": []
          },
          "output_type": "display_data"
        },
        {
          "name": "stdout",
          "output_type": "stream",
          "text": [
            "Accuracy for class plane is: 89.0 %\n",
            "Accuracy for class car   is: 95.5 %\n",
            "Accuracy for class bird  is: 80.5 %\n",
            "Accuracy for class cat   is: 69.9 %\n",
            "Accuracy for class deer  is: 81.4 %\n",
            "Accuracy for class dog   is: 83.4 %\n",
            "Accuracy for class frog  is: 88.8 %\n",
            "Accuracy for class horse is: 90.8 %\n",
            "Accuracy for class ship  is: 92.6 %\n",
            "Accuracy for class truck is: 92.7 %\n"
          ]
        }
      ],
      "source": [
        "misclassified_images = []\n",
        "correct_pred = {classname: 0 for classname in classes}\n",
        "total_pred = {classname: 0 for classname in classes}\n",
        "\n",
        "MEAN = torch.tensor([0.485, 0.456, 0.406])\n",
        "STD = torch.tensor([0.229, 0.224, 0.225])\n",
        "\n",
        "with torch.no_grad():\n",
        "    for images, labels in testloader:\n",
        "        images, labels = images.to(device), labels.to(device)\n",
        "        outputs = model(images)\n",
        "        _, predictions = torch.max(outputs, 1)\n",
        "        # collect the correct predictions for each class\n",
        "        for label, prediction in zip(labels, predictions):\n",
        "            if label == prediction:\n",
        "                correct_pred[classes[label]] += 1\n",
        "            total_pred[classes[label]] += 1\n",
        "        for i in range(len(predictions)):\n",
        "            if predictions[i]!= labels[i]:\n",
        "                misclassified_images.append([images[i], predictions[i], labels[i]])\n",
        "\n",
        "fig = plt.figure(figsize = (10,10))\n",
        "for i in range(10):\n",
        "  sub = fig.add_subplot(5, 2, i+1)\n",
        "  img = misclassified_images[i][0].cpu()\n",
        "  img = img * STD[:, None, None] + MEAN[:, None, None]\n",
        "  # img = img / 2 + 0.5 \n",
        "  npimg = img.numpy()\n",
        "  plt.imshow(np.transpose(npimg,(1, 2, 0)),interpolation='none')\n",
        "      \n",
        "  sub.set_title(\"Pred={}, Act={}\".format(str(classes[misclassified_images[i][1].data.cpu().numpy()]),\n",
        "                                         str(classes[misclassified_images[i][2].data.cpu().numpy()])))\n",
        "      \n",
        "plt.tight_layout()\n",
        "plt.show()\n",
        "\n",
        "# print accuracy for each class\n",
        "for classname, correct_count in correct_pred.items():\n",
        "    accuracy = 100 * float(correct_count) / total_pred[classname]\n",
        "    print(\"Accuracy for class {:5s} is: {:.1f} %\".format(classname,accuracy))\n"
      ]
    },
    {
      "cell_type": "code",
      "execution_count": 24,
      "metadata": {
        "colab": {
          "base_uri": "https://localhost:8080/",
          "height": 734
        },
        "id": "biR-TS3lqwIW",
        "outputId": "6d5e5904-9198-4dde-da4c-f039cb9fc806"
      },
      "outputs": [
        {
          "data": {
            "text/plain": [
              "<matplotlib.legend.Legend at 0x7ff0f208c490>"
            ]
          },
          "execution_count": 24,
          "metadata": {
            "tags": []
          },
          "output_type": "execute_result"
        },
        {
          "data": {
            "image/png": "[encoded data removed]",
            "text/plain": [
              "<Figure size 1080x864 with 4 Axes>"
            ]
          },
          "metadata": {
            "needs_background": "light",
            "tags": []
          },
          "output_type": "display_data"
        }
      ],
      "source": [
        "\n",
        "fig, axs = plt.subplots(2,2,figsize=(15,12))\n",
        "axs[0, 0].plot(train_losses, label='Training Loss')\n",
        "axs[0, 0].grid(linestyle='-.')\n",
        "axs[0, 0].set_title(\"Training Loss\")\n",
        "axs[0, 0].legend()\n",
        "\n",
        "axs[1, 0].plot(train_accuracy, label='Training Accuracy')\n",
        "axs[1, 0].grid(linestyle='-.')\n",
        "axs[1, 0].set_title(\"Training Accuracy\")\n",
        "axs[1, 0].legend()\n",
        "\n",
        "axs[0, 1].plot(test_losses, label='Test Loss')\n",
        "axs[0, 1].grid(linestyle='-.')\n",
        "axs[0, 1].set_title(\"Test Loss\")\n",
        "axs[0, 1].legend()\n",
        "\n",
        "axs[1, 1].plot(test_accuracy, label='Test Accuracy')\n",
        "axs[1, 1].grid(linestyle='-.')\n",
        "axs[1, 1].set_title(\"Test Accuracy\")\n",
        "axs[1, 1].legend()"
      ]
    }
  ],
  "metadata": {
    "accelerator": "GPU",
    "colab": {
      "include_colab_link": true,
      "name": "EVA6_Session_7.ipynb",
      "provenance": []
    },
    "kernelspec": {
      "display_name": "Python 3.9.13 ('timm')",
      "language": "python",
      "name": "python3"
    },
    "language_info": {
      "codemirror_mode": {
        "name": "ipython",
        "version": 3
      },
      "file_extension": ".py",
      "mimetype": "text/x-python",
      "name": "python",
      "nbconvert_exporter": "python",
      "pygments_lexer": "ipython3",
      "version": "3.9.13"
    },
    "vscode": {
      "interpreter": {
        "hash": "7a4fdbb7a63ba2e3cc5e9da57e322552cede57933d0c9fb9aba73535c6118b99"
      }
    }
  },
  "nbformat": 4,
  "nbformat_minor": 0
}
